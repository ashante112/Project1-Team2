{
 "cells": [
  {
   "cell_type": "code",
   "execution_count": null,
   "metadata": {},
   "outputs": [],
   "source": [
    "import matplotlib.pyplot as plt\n",
    "import pandas as pd\n",
    "import numpy as np\n",
    "import scipy.stats as st"
   ]
  },
  {
   "cell_type": "code",
   "execution_count": null,
   "metadata": {},
   "outputs": [],
   "source": [
    "output_data = \"Resources/Project1Data.csv\"\n",
    "output_data2 = \"Resources/2018SASB.csv\"\n",
    "data_df = pd.read_csv(output_data)\n",
    "data2_df = pd.read_csv(output_data2)\n",
    "data_df"
   ]
  },
  {
   "cell_type": "code",
   "execution_count": null,
   "metadata": {},
   "outputs": [],
   "source": [
    "data_df[\"SCL_NAME\"].nunique()"
   ]
  },
  {
   "cell_type": "code",
   "execution_count": null,
   "metadata": {},
   "outputs": [],
   "source": [
    "# APR scores over time\n",
    "combined_years_df = data_df[[\"SPORT_NAME\", \"APR_RATE_2019_1000\", \"APR_RATE_2018_1000\", \"APR_RATE_2017_1000\", \"APR_RATE_2009_1000\"]]\n",
    "combined_years_df\n",
    "\n",
    "combined_years_df[\"SPORT_NAME\"].nunique()\n",
    "\n"
   ]
  },
  {
   "cell_type": "code",
   "execution_count": null,
   "metadata": {},
   "outputs": [],
   "source": [
    "# Create a grouped dataframe by sport \n",
    "# If you receive an error message. Please add/remove \"_df\" from the variable to make it work. \n",
    "\n",
    "mean1_df = combined_years_df['APR_RATE_2019_1000'].groupby(combined_years_df['SPORT_NAME']).mean()"
   ]
  },
  {
   "cell_type": "code",
   "execution_count": null,
   "metadata": {},
   "outputs": [],
   "source": [
    "# Create a dataframe\n",
    "\n",
    "mean1_df = mean1_df.reset_index()\n",
    "mean1_df = pd.DataFrame({\"APR_RATE_2019_1000\": mean1})\n",
    "mean1_df\n",
    "\n",
    "# Graph sport vs average APR score\n",
    "sport_names = mean1_df.index.tolist()\n",
    "x_axis = sport_names\n",
    "y_axis = mean1_df[\"APR_RATE_2019_1000\"]\n",
    "\n",
    "plt.figure(figsize = (10,5))\n",
    "plt.bar(x_axis,y_axis)\n",
    "plt.xticks(x_axis,rotation=\"vertical\")\n",
    "\n",
    "# Labels\n",
    "plt.ylabel(\"Average Rate\")\n",
    "plt.title(\"2019 Average Academic Performance Rate by Division 1 Sport\")\n",
    "plt.ylim(940,1000)\n",
    "\n",
    "plt.savefig(\"Images/SportComparisonAPR_bar_2019.png\", dpi=None, facecolor='w', edgecolor='w',orientation='portrait', \n",
    "            format=None, transparent=False, bbox_inches=\"tight\", pad_inches=0.5, metadata=None)"
   ]
  },
  {
   "cell_type": "code",
   "execution_count": null,
   "metadata": {},
   "outputs": [],
   "source": [
    "# Create a grouped dataframe by sport\n",
    "# If you receive an error message. Please add/remove \"_df\" from the variable to make it work. \n",
    "\n",
    "mean2_df = combined_years_df['APR_RATE_2009_1000'].groupby(combined_years_df['SPORT_NAME']).mean()"
   ]
  },
  {
   "cell_type": "code",
   "execution_count": null,
   "metadata": {},
   "outputs": [],
   "source": [
    "# Create a dataframe\n",
    "\n",
    "mean2_df = mean2_df.reset_index()\n",
    "mean2_df = pd.DataFrame({\"APR_RATE_2009_1000\": mean2})\n",
    "mean2_df\n",
    "\n",
    "# Graph sport vs average APR score\n",
    "sport_names = mean2_df.index.tolist()\n",
    "x_axis = sport_names\n",
    "y_axis = mean2_df[\"APR_RATE_2009_1000\"]\n",
    "\n",
    "plt.figure(figsize = (10,5))\n",
    "plt.bar(x_axis,y_axis)\n",
    "plt.xticks(x_axis,rotation=\"vertical\")\n",
    "\n",
    "# Labels\n",
    "plt.ylabel(\"Average Rate\")\n",
    "plt.title(\"2009 Average Academic Performance Rate by Division 1 Sport\")\n",
    "plt.ylim(940,1000)\n",
    "\n",
    "plt.savefig(\"Images/SportComparisonAPR_bar_2009.png\", dpi=None, facecolor='w', edgecolor='w',orientation='portrait', \n",
    "            format=None, transparent=False, bbox_inches=\"tight\", pad_inches=0.5, metadata=None)"
   ]
  },
  {
   "cell_type": "code",
   "execution_count": null,
   "metadata": {},
   "outputs": [],
   "source": [
    "mean1_df = mean1_df.reset_index()\n",
    "mean1_df[\"SPORT_NAME\"]"
   ]
  },
  {
   "cell_type": "code",
   "execution_count": null,
   "metadata": {},
   "outputs": [],
   "source": [
    "# Gender comparison of APR scores\n",
    "\n",
    "# Separate Mens and Womens sports into lists\n",
    "Mens_sports = []\n",
    "Womens_sports = []\n",
    "\n",
    "for sport_name in sport_names:\n",
    "\n",
    "    if \"Women's\" in sport_name:\n",
    "    \n",
    "        Womens_sports.append(sport_name)\n",
    "               \n",
    "    else:\n",
    "        Mens_sports.append(sport_name)\n",
    "        \n",
    "print(Womens_sports)\n",
    "print(Mens_sports)\n"
   ]
  },
  {
   "cell_type": "code",
   "execution_count": null,
   "metadata": {},
   "outputs": [],
   "source": [
    "# Dataframe for womens sports and avg APR score\n",
    "\n",
    "Womens_APR = mean1_df[mean1_df[\"SPORT_NAME\"].isin(Womens_sports)]\n",
    "Womens_APR"
   ]
  },
  {
   "cell_type": "code",
   "execution_count": null,
   "metadata": {},
   "outputs": [],
   "source": [
    "# Dataframe for mens sports and avg APR score\n",
    "\n",
    "Mens_APR = mean1_df[mean1_df[\"SPORT_NAME\"].isin(Mens_sports)]\n",
    "Mens_APR"
   ]
  },
  {
   "cell_type": "code",
   "execution_count": null,
   "metadata": {},
   "outputs": [],
   "source": [
    "# Mens vs Womens 2019 average\n",
    "\n",
    "sport_list = [\"Basketball\", \"Cross Country\", \"Fencing\", \"Golf\", \"Gymnastics\",\"Lacrosse\",\"Skiing\",\"Soccer\",\"Softball/Baseball\"\n",
    "              ,\"Swimming\",\"Tennis\",\"Track\",\"Volleyball\",\"Water Polo\"]\n",
    "Mens = [965.55, 978.15,980.81,987.03, 990.62, 986.18, 983.56, 974.66, 975.84, 983.55, 983.03, 971.62, 982.05, 985.48 ]\n",
    "\n",
    "Womens = [985.43, 988.87, 987.13, 992.64, 993.52, 995.54, 997.30, 989.59, 986.19, 991.94, 991.32, 984.29, 988.25, 987.50]\n",
    "    \n",
    "plt.figure(figsize = (10,5))\n",
    "plt.plot(sport_list, Womens, label = \"Women\")\n",
    "plt.plot(sport_list, Mens, label = \"Men\")\n",
    "plt.xticks(sport_list,rotation=\"vertical\")\n",
    "plt.legend()\n",
    "plt.title(\"2019 Gender Comparison of Academic Performance Rate by Division 1 Sport\")\n",
    "plt.ylabel(\"APR\")\n",
    "\n",
    "plt.savefig(\"Images/GenderComparisonAPR_line_2019.png\", dpi=None, facecolor='w', edgecolor='w',orientation='portrait', \n",
    "            format=None, transparent=False, bbox_inches=\"tight\", pad_inches=0.5, metadata=None)"
   ]
  },
  {
   "cell_type": "code",
   "execution_count": null,
   "metadata": {},
   "outputs": [],
   "source": [
    "# Dataframe for womens sports and avg APR score\n",
    "\n",
    "mean2_df = mean2_df.reset_index()\n",
    "mean2_df[\"SPORT_NAME\"]\n",
    "Womens_APR_2009 = mean2_df[mean2_df[\"SPORT_NAME\"].isin(Womens_sports)]\n",
    "Womens_APR_2009"
   ]
  },
  {
   "cell_type": "code",
   "execution_count": null,
   "metadata": {},
   "outputs": [],
   "source": [
    "Mens_APR_2009 = mean2_df[mean2_df[\"SPORT_NAME\"].isin(Mens_sports)]\n",
    "Mens_APR_2009"
   ]
  },
  {
   "cell_type": "code",
   "execution_count": null,
   "metadata": {},
   "outputs": [],
   "source": [
    "data2_df "
   ]
  },
  {
   "cell_type": "code",
   "execution_count": null,
   "metadata": {},
   "outputs": [],
   "source": [
    "# Womens vs Mens 2009 average\n",
    "\n",
    "sport_list = [\"Basketball\", \"Cross Country\", \"Fencing\", \"Golf\", \"Gymnastics\", \"Ice Hockey\", \"Lacrosse\", \"Skiing\", \"Soccer\", \"Softball/Baseball\"\n",
    "              , \"Swimming\", \"Tennis\", \"Track\", \"Volleyball\", \"Water Polo\"]\n",
    "\n",
    "Womens = [969.22, 979.17, 973.64, 983.58, 988.70, 988.09, 990.62, 991.00, 979.26, 977.68, 985.10, 982.62, 971.57, 979.78, 982.00]\n",
    "\n",
    "Mens = [948.56, 968.93, 978.19, 976.19, 975.69, 980.60, 972.63, 970.56, 968.23, 964.05, 976.12, 967.80, 962.18, 977.10, 976.35]\n",
    "    \n",
    "plt.figure(figsize = (10,5))\n",
    "plt.plot(sport_list, Womens, label = \"Women\")\n",
    "plt.plot(sport_list, Mens, label = \"Men\")\n",
    "plt.xticks(sport_list,rotation=\"vertical\")\n",
    "plt.legend()\n",
    "plt.title(\"2009 Gender Comparison of Academic Performance Rate by Division 1 Sport\")\n",
    "plt.ylabel(\"APR\")\n",
    "\n",
    "plt.savefig(\"Images/GenderComparisonAPR_line_2009.png\", dpi=None, facecolor='w', edgecolor='w',orientation='portrait', \n",
    "            format=None, transparent=False, bbox_inches=\"tight\", pad_inches=0.5, metadata=None)"
   ]
  },
  {
   "cell_type": "code",
   "execution_count": null,
   "metadata": {
    "scrolled": true
   },
   "outputs": [],
   "source": [
    "# Comparing federal student athelete rate with federal student body rate\n",
    "\n",
    "fed_rate_df = data2_df[[\"SCL_NAME\", \"FED_N_SA\", \"FED_RATE_SA\", \"FED_N_SB\", \"FED_RATE_SB\"]].dropna()\n",
    "fed_rate_df"
   ]
  },
  {
   "cell_type": "code",
   "execution_count": null,
   "metadata": {},
   "outputs": [],
   "source": [
    "# Scatter Plot of Data\n",
    "sample = fed_rate_df[\"FED_RATE_SA\"]\n",
    "population = fed_rate_df[\"FED_RATE_SB\"]\n",
    "\n",
    "plt.subplot(1, 1, 1)\n",
    "plt.scatter(range(len(population)), population, label=\"Student Body\")\n",
    "plt.scatter(range(len(sample)), sample, label=\"Student Athletes\")\n",
    "plt.legend()\n",
    "plt.ylabel(\"Mean\")\n",
    "plt.title(\"2018 Federal Graduation Rate Means for Division 1 Schools\")\n",
    "\n",
    "plt.savefig(\"Images/ttest_scatter_2018.png\", dpi=None, facecolor='w', edgecolor='w',orientation='portrait', \n",
    "            format=None, transparent=False, bbox_inches=\"tight\", pad_inches=0.5, metadata=None)"
   ]
  },
  {
   "cell_type": "code",
   "execution_count": null,
   "metadata": {},
   "outputs": [],
   "source": [
    "# Histogram Plot of Data\n",
    "plt.subplot(2, 1, 2)\n",
    "plt.hist(population, 20, density=True, alpha=0.7, label=\"Student Body\")\n",
    "plt.hist(sample, 20, density=True, alpha=0.7, label=\"Student Athletes\")\n",
    "plt.axvline(population.mean(), color='k', linestyle='dashed', linewidth=1)\n",
    "plt.axvline(sample.mean(), color='k', linestyle='dashed', linewidth=1)\n",
    "plt.legend()\n",
    "plt.title(\"2018 Distribution of Federal Graduation Rate Means for Div. 1 Schools\")\n",
    "plt.ylabel(\"Probability Density\")\n",
    "plt.xlabel(\"Mean\")\n",
    "\n",
    "plt.savefig(\"Images/ttest_dist_2018.png\", dpi=None, facecolor='w', edgecolor='w',orientation='portrait', \n",
    "            format=None, transparent=False, bbox_inches=\"tight\", pad_inches=0.5, metadata=None)"
   ]
  },
  {
   "cell_type": "code",
   "execution_count": null,
   "metadata": {},
   "outputs": [],
   "source": [
    "st.ttest_1samp(sample, population.mean())"
   ]
  },
  {
   "cell_type": "markdown",
   "metadata": {},
   "source": [
    "Since our p-value is less than 0.05, we can reject our null hypothesis and conclude that, \n",
    "in terms of federal academic success rate, there is generally more academic success amongst student athletes \n",
    "compared to the general student body."
   ]
  },
  {
   "cell_type": "code",
   "execution_count": null,
   "metadata": {},
   "outputs": [],
   "source": [
    "# Pie chart of Student Body Count vs athlete count\n",
    "\n",
    "Count_SB = fed_rate_df[\"FED_N_SB\"].sum()\n",
    "Count_SA = fed_rate_df[\"FED_N_SA\"].sum()\n",
    "\n",
    "\n",
    "# Pie chart, where the slices will be ordered and plotted counter-clockwise:\n",
    "labels = ['Student Body', 'Student Athletes']\n",
    "sizes = [Count_SB,Count_SA]\n",
    "explode = (0, 0.1)  # only \"explode\" the 2nd slice (i.e. 'Hogs')\n",
    "\n",
    "fig1, ax1 = plt.subplots()\n",
    "ax1.pie(sizes, explode=explode, labels=labels, autopct='%1.1f%%',\n",
    "        shadow=True, startangle=90)\n",
    "ax1.axis('equal')  # Equal aspect ratio ensures that pie is drawn as a circle.\n",
    "plt.show()\n",
    "\n",
    "fig1.savefig(\"Images/Student_Count_Pie.png\",dpi=None,facecolor='w', edgecolor='w',orientation='portrait', \n",
    "            format=None, transparent=False, bbox_inches=\"tight\", pad_inches=0.5, metadata=None)"
   ]
  }
 ],
 "metadata": {
  "kernelspec": {
   "display_name": "Python 3",
   "language": "python",
   "name": "python3"
  },
  "language_info": {
   "codemirror_mode": {
    "name": "ipython",
    "version": 3
   },
   "file_extension": ".py",
   "mimetype": "text/x-python",
   "name": "python",
   "nbconvert_exporter": "python",
   "pygments_lexer": "ipython3",
   "version": "3.6.12"
  }
 },
 "nbformat": 4,
 "nbformat_minor": 4
}
